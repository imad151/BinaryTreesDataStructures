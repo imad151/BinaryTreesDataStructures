{
  "cells": [
    {
      "cell_type": "code",
      "execution_count": 1,
      "metadata": {
        "id": "__2Vxkn1jRVz"
      },
      "outputs": [],
      "source": [
        "from redblack_tree_skeleton import RedBlackTree\n",
        "# Freely test your RedBlackTree implementation to ensure it adheres to the 2-4 tree properties."
      ]
    },
    {
      "cell_type": "markdown",
      "metadata": {
        "id": "kFFyTFImjRV1"
      },
      "source": [
        "# Test case 1\n"
      ]
    },
    {
      "cell_type": "code",
      "execution_count": 3,
      "metadata": {
        "colab": {
          "base_uri": "https://localhost:8080/"
        },
        "id": "wEZLn35KjRV1",
        "outputId": "6dada9ad-269f-4433-a77a-9eb99e82f259"
      },
      "outputs": [
        {
          "output_type": "stream",
          "name": "stdout",
          "text": [
            "── 20(B)\n",
            "   ┌── 30(R)\n",
            "   └── 10(R)\n"
          ]
        }
      ],
      "source": [
        "# Inserting in such a way that causes a Left-Right rotation\n",
        "tree = RedBlackTree()\n",
        "tree.insert(30)\n",
        "tree.insert(10)\n",
        "tree.insert(20)  # Causes Left-Right rotation on insert-fix\n",
        "\n",
        "tree.display()\n",
        "# Explanation:\n",
        "# - Inserting 10 makes it the left child of 30.\n",
        "# - Inserting 20 makes it the right child of 10 (left-right case).\n",
        "# - Fix requires a **left rotation on 10**, then **right rotation on 30**.\n",
        "# - Ensures that double rotation logic is working in insert_fix.\n"
      ]
    },
    {
      "cell_type": "markdown",
      "metadata": {
        "id": "rhk6U9QNjRV2"
      },
      "source": [
        "# Test case 2\n"
      ]
    },
    {
      "cell_type": "code",
      "execution_count": 5,
      "metadata": {
        "colab": {
          "base_uri": "https://localhost:8080/"
        },
        "id": "FYQkDWTtjRV2",
        "outputId": "f6a8cf0d-2e8a-4f04-f4e3-170097442f44"
      },
      "outputs": [
        {
          "output_type": "stream",
          "name": "stdout",
          "text": [
            "── 10(B)\n",
            "   ┌── 15(B)\n",
            "   └── 5(B)\n",
            "   │  ┌── 6(R)\n",
            "   │  └── 1(R)\n"
          ]
        }
      ],
      "source": [
        "tree = RedBlackTree()\n",
        "tree.insert(10)\n",
        "tree.insert(5)\n",
        "tree.insert(15)\n",
        "tree.insert(1)\n",
        "tree.insert(6)\n",
        "\n",
        "tree.display()\n",
        "# Explanation:\n",
        "# - Node 6 triggers a violation: both parent (5) and uncle (15) are red.\n",
        "# - Instead of rotation, we should **recolor 5 and 15 to black**, and **10 to red**.\n",
        "# - Then propagate fix upward as needed.\n",
        "# - Validates correct recoloring and upward propagation of violations.\n"
      ]
    },
    {
      "cell_type": "markdown",
      "metadata": {
        "id": "wTjrzKSAjRV2"
      },
      "source": [
        "# Test case 3\n"
      ]
    },
    {
      "cell_type": "code",
      "execution_count": 6,
      "metadata": {
        "colab": {
          "base_uri": "https://localhost:8080/"
        },
        "id": "-_Rwi21ujRV2",
        "outputId": "cae4da84-9f41-407b-e09d-16fbbd59020e"
      },
      "outputs": [
        {
          "output_type": "stream",
          "name": "stdout",
          "text": [
            "── 50(B)\n",
            "   ┌── 75(B)\n",
            "      ┌── 80(R)\n",
            "      └── 60(R)\n",
            "   └── 25(B)\n",
            "   │  ┌── 30(R)\n",
            "   │  └── 15(B)\n",
            "   │  │  └── 5(R)\n"
          ]
        }
      ],
      "source": [
        "tree = RedBlackTree()\n",
        "# Form a tree first\n",
        "for value in [50, 25, 75, 10, 30, 60, 80, 5, 15]:\n",
        "    tree.insert(value)\n",
        "\n",
        "tree.delete(10)  # Node 10 has one child (15), test replacement and delete_fix\n",
        "tree.display()\n",
        "# Explanation:\n",
        "# - Deleting 10 leaves child 15 which may violate black height if 10 was black.\n",
        "# - `delete_fix` must rebalance by rotations and/or recoloring.\n",
        "# - Tests whether delete_fix correctly handles single-child and black node removal.\n"
      ]
    },
    {
      "cell_type": "markdown",
      "metadata": {
        "id": "bE6ZfBLjjRV2"
      },
      "source": [
        "# Test case 4\n"
      ]
    },
    {
      "cell_type": "code",
      "execution_count": 7,
      "metadata": {
        "colab": {
          "base_uri": "https://localhost:8080/"
        },
        "id": "SMGeBoDojRV3",
        "outputId": "4c83c174-27fa-4f30-d729-504d8758b6b9"
      },
      "outputs": [
        {
          "output_type": "stream",
          "name": "stdout",
          "text": [
            "── 40(B)\n",
            "   ┌── 60(B)\n",
            "      ┌── 70(R)\n",
            "      └── 50(R)\n",
            "   └── 25(B)\n",
            "   │  ┌── 30(B)\n",
            "   │  └── 10(B)\n"
          ]
        }
      ],
      "source": [
        "tree = RedBlackTree()\n",
        "# Build tree where deletion replaces node with its successor\n",
        "for val in [40, 20, 60, 10, 30, 50, 70, 25]:\n",
        "    tree.insert(val)\n",
        "\n",
        "tree.delete(20)  # 25 replaces 20, needs proper parent reassignment and fix-up\n",
        "tree.display()\n",
        "# Explanation:\n",
        "# - 25 is the in-order successor of 20.\n",
        "# - This tests `_find_min`, `_replace_node`, and correct reattachment of children and parents.\n",
        "# - Also tests whether tree maintains all RBT properties after such replacement.\n"
      ]
    },
    {
      "cell_type": "markdown",
      "metadata": {
        "id": "H0ZYOja7jRV3"
      },
      "source": [
        "# Test case 5\n"
      ]
    },
    {
      "cell_type": "code",
      "execution_count": 8,
      "metadata": {
        "colab": {
          "base_uri": "https://localhost:8080/"
        },
        "id": "9hEds8rAjRV3",
        "outputId": "62b462c5-cf0e-47fb-8180-f31bce2c5414"
      },
      "outputs": [
        {
          "output_type": "stream",
          "name": "stdout",
          "text": [
            "── 50(B)\n",
            "   ┌── 60(B)\n",
            "      ┌── 70(R)\n",
            "   └── 20(B)\n",
            "   │  ┌── 30(R)\n",
            "   │  └── 10(R)\n"
          ]
        }
      ],
      "source": [
        "tree = RedBlackTree()\n",
        "# Create a well-balanced tree\n",
        "for val in [40, 20, 60, 10, 30, 50, 70]:\n",
        "    tree.insert(val)\n",
        "\n",
        "tree.delete(40)  # Deleting the root which has two children\n",
        "tree.display()\n",
        "# Explanation:\n",
        "# - The successor of 40 is 50; it replaces the root.\n",
        "# - Tests proper **update of the root pointer**, and **tree re-balancing** after root deletion.\n",
        "# - Ensures that root color is restored to black and tree structure remains valid.\n"
      ]
    },
    {
      "cell_type": "markdown",
      "metadata": {
        "id": "mdg6mlg1jRV3"
      },
      "source": [
        "# Test case - add more as you wish!\n"
      ]
    },
    {
      "cell_type": "markdown",
      "metadata": {
        "id": "WNZXink8jRV4"
      },
      "source": []
    }
  ],
  "metadata": {
    "kernelspec": {
      "display_name": "Python 3",
      "language": "python",
      "name": "python3"
    },
    "language_info": {
      "codemirror_mode": {
        "name": "ipython",
        "version": 3
      },
      "file_extension": ".py",
      "mimetype": "text/x-python",
      "name": "python",
      "nbconvert_exporter": "python",
      "pygments_lexer": "ipython3",
      "version": "3.12.2"
    },
    "colab": {
      "provenance": []
    }
  },
  "nbformat": 4,
  "nbformat_minor": 0
}