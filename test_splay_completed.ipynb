{
  "cells": [
    {
      "cell_type": "code",
      "execution_count": 1,
      "metadata": {
        "id": "kJq-1MbG5ejv"
      },
      "outputs": [],
      "source": [
        "from splay_tree_skeleton import SplayTree\n",
        "# Freely test your SplayTree implementation to ensure it adheres to the 2-4 tree properties."
      ]
    },
    {
      "cell_type": "markdown",
      "metadata": {
        "id": "XZMMC2La5ejw"
      },
      "source": [
        "# Test case 1\n",
        "Test Insertion + Splaying"
      ]
    },
    {
      "cell_type": "code",
      "execution_count": 2,
      "metadata": {
        "colab": {
          "base_uri": "https://localhost:8080/"
        },
        "id": "GGCM4OOF5ejx",
        "outputId": "c1637f3d-c040-4198-babc-f524cfe9a847"
      },
      "outputs": [
        {
          "output_type": "stream",
          "name": "stdout",
          "text": [
            "PASS\n",
            "\n"
          ]
        }
      ],
      "source": [
        "tree = SplayTree()\n",
        "\n",
        "# Insert a sequence of elements\n",
        "for value in [10, 20, 30, 40, 50]:\n",
        "    tree.insert(value)\n",
        "\n",
        "# After inserting 50, it should be splayed to root\n",
        "assert tree._root._element == 50, \"Last inserted element should be root due to splaying\"\n",
        "\n",
        "# Tree should contain all inserted elements\n",
        "assert tree.inorder_traversal() == [10, 20, 30, 40, 50], \"Inorder should reflect BST property\"\n",
        "assert tree.size() == 5, \"Tree size should be 5\"\n",
        "\n",
        "print(\"PASS\\n\")"
      ]
    },
    {
      "cell_type": "markdown",
      "metadata": {
        "id": "8WMtzz6o5ejx"
      },
      "source": [
        "# Test case 2\n",
        "Test Search + Splaying"
      ]
    },
    {
      "cell_type": "code",
      "execution_count": 4,
      "metadata": {
        "colab": {
          "base_uri": "https://localhost:8080/"
        },
        "id": "5Suxd9UH5ejx",
        "outputId": "16b90c1d-f103-41a7-901c-ef3308e2040b"
      },
      "outputs": [
        {
          "output_type": "stream",
          "name": "stdout",
          "text": [
            "PASS\n",
            "\n"
          ]
        }
      ],
      "source": [
        "tree.search(20)  # Should splay 20 to root\n",
        "assert tree._root._element == 20, \"Searched node should be splayed to root\"\n",
        "assert 30 in tree, \"Element 30 should still be in the tree\"\n",
        "print(\"PASS\\n\")"
      ]
    },
    {
      "cell_type": "markdown",
      "metadata": {
        "id": "_dFKf2K-5ejy"
      },
      "source": [
        "# Test case 3\n",
        "Test Deleting with two subtrees"
      ]
    },
    {
      "cell_type": "code",
      "execution_count": 5,
      "metadata": {
        "colab": {
          "base_uri": "https://localhost:8080/"
        },
        "id": "rMz9OK945ejy",
        "outputId": "5e8f6b4d-a897-4914-d4e7-8c8a60e19930"
      },
      "outputs": [
        {
          "output_type": "stream",
          "name": "stdout",
          "text": [
            "PASS\n",
            "\n"
          ]
        }
      ],
      "source": [
        "# Delete a node with both children (e.g. 20)\n",
        "tree.delete(20)\n",
        "assert 20 not in tree, \"Deleted element should no longer be in the tree\"\n",
        "assert tree.size() == 4, \"Tree size should decrement after deletion\"\n",
        "assert tree.inorder_traversal() == [10, 30, 40, 50], \"Inorder should not include deleted element\"\n",
        "print(\"PASS\\n\")"
      ]
    },
    {
      "cell_type": "markdown",
      "metadata": {
        "id": "U0Yzq0lb5ejy"
      },
      "source": [
        "# Test case 4\n",
        "Test Split and Join"
      ]
    },
    {
      "cell_type": "code",
      "execution_count": 6,
      "metadata": {
        "colab": {
          "base_uri": "https://localhost:8080/"
        },
        "id": "kT4kLoOX5ejz",
        "outputId": "3f9db23c-cba4-4d8b-8126-02d3a7e5969a"
      },
      "outputs": [
        {
          "output_type": "stream",
          "name": "stdout",
          "text": [
            "PASS\n",
            "\n"
          ]
        }
      ],
      "source": [
        "# Split around 35\n",
        "left_tree, right_tree = tree.split(35)\n",
        "\n",
        "# Left tree should contain 10, 30\n",
        "assert left_tree.inorder_traversal() == [10, 30], \"Left tree after split should contain elements ≤ 35\"\n",
        "assert right_tree.inorder_traversal() == [40, 50], \"Right tree after split should contain elements > 35\"\n",
        "\n",
        "# Join the two trees back\n",
        "left_tree.join(right_tree)\n",
        "assert left_tree.inorder_traversal() == [10, 30, 40, 50], \"Join should reconstruct original tree\"\n",
        "assert left_tree.size() == 4, \"Size should be preserved after join\"\n",
        "\n",
        "print(\"PASS\\n\")"
      ]
    },
    {
      "cell_type": "markdown",
      "metadata": {
        "id": "N9UF5a0C5ejz"
      },
      "source": [
        "# Test case 5\n",
        "Empty tree behavior"
      ]
    },
    {
      "cell_type": "code",
      "execution_count": 8,
      "metadata": {
        "colab": {
          "base_uri": "https://localhost:8080/"
        },
        "id": "MJyPHRzL5ejz",
        "outputId": "fc2e0f17-60e9-4ed2-d4be-60eb4eda8a4b"
      },
      "outputs": [
        {
          "output_type": "stream",
          "name": "stdout",
          "text": [
            "PASS\n",
            "\n"
          ]
        }
      ],
      "source": [
        "empty = SplayTree()\n",
        "\n",
        "assert empty.find_min() is None, \"Min on empty tree should be None\"\n",
        "assert empty.find_max() is None, \"Max on empty tree should be None\"\n",
        "assert empty.search(99) == False, \"Search on empty tree should return False\"\n",
        "assert empty.delete(50) == False, \"Delete on empty tree should return False\"\n",
        "\n",
        "left, right = empty.split(100)\n",
        "assert left.is_empty() and right.is_empty(), \"Splitting empty tree should return two empty trees\"\n",
        "\n",
        "# Joining two empty trees should result in an empty tree\n",
        "left.join(right)\n",
        "assert left.is_empty(), \"Joining two empty trees should result in empty tree\"\n",
        "\n",
        "print(\"PASS\\n\")"
      ]
    },
    {
      "cell_type": "markdown",
      "metadata": {
        "id": "AF56ti6k5ej0"
      },
      "source": [
        "# Test case - add more as you wish!\n"
      ]
    },
    {
      "cell_type": "markdown",
      "metadata": {
        "id": "WxhzBtqZ5ej0"
      },
      "source": []
    }
  ],
  "metadata": {
    "kernelspec": {
      "display_name": "Python 3",
      "language": "python",
      "name": "python3"
    },
    "language_info": {
      "codemirror_mode": {
        "name": "ipython",
        "version": 3
      },
      "file_extension": ".py",
      "mimetype": "text/x-python",
      "name": "python",
      "nbconvert_exporter": "python",
      "pygments_lexer": "ipython3",
      "version": "3.12.2"
    },
    "colab": {
      "provenance": []
    }
  },
  "nbformat": 4,
  "nbformat_minor": 0
}