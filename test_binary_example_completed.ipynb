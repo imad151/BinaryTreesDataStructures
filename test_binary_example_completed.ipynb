{
  "cells": [
    {
      "cell_type": "code",
      "execution_count": null,
      "metadata": {
        "id": "0XHQOQP53SPx"
      },
      "outputs": [],
      "source": [
        "from binary_tree import BinarySearchTree"
      ]
    },
    {
      "cell_type": "markdown",
      "metadata": {
        "id": "dXhaMlfd3SPy"
      },
      "source": [
        "# Test case 1 - testing for insertion operation\n",
        "\n",
        "Making sure binary insert is operating as expected."
      ]
    },
    {
      "cell_type": "code",
      "execution_count": null,
      "metadata": {
        "colab": {
          "base_uri": "https://localhost:8080/"
        },
        "id": "5zwp1Q5M3SPy",
        "outputId": "4d0e89ad-5bd3-46c2-d689-1652ca0eaa0e"
      },
      "outputs": [
        {
          "output_type": "stream",
          "name": "stdout",
          "text": [
            "    * 3\n",
            "* 2  <- root\n",
            "    * 1\n"
          ]
        }
      ],
      "source": [
        "bst1 = BinarySearchTree()\n",
        "bst1.insert(2)\n",
        "bst1.insert(1)\n",
        "bst1.insert(3)\n",
        "\n",
        "# This should make a tree like this:\n",
        "#   2\n",
        "# 1   3\n",
        "\n",
        "bst1.display()"
      ]
    },
    {
      "cell_type": "code",
      "execution_count": null,
      "metadata": {
        "colab": {
          "base_uri": "https://localhost:8080/"
        },
        "id": "If9pQaYi3SPz",
        "outputId": "05decf54-0121-424b-df61-cd8f23f0b11c"
      },
      "outputs": [
        {
          "output_type": "stream",
          "name": "stdout",
          "text": [
            "                * 5\n",
            "            * 4\n",
            "        * 3\n",
            "    * 2\n",
            "* 1  <- root\n"
          ]
        }
      ],
      "source": [
        "# Test for a tree insertion in biased form\n",
        "\n",
        "bst2 = BinarySearchTree()\n",
        "bst2.insert(1)\n",
        "bst2.insert(2)\n",
        "bst2.insert(3)\n",
        "bst2.insert(4)\n",
        "bst2.insert(5)\n",
        "\n",
        "# This should make a tree like this:\n",
        "# 1\n",
        "#  \\\n",
        "#   2\n",
        "#    \\\n",
        "#     3\n",
        "#      \\\n",
        "#       4\n",
        "#        \\\n",
        "#         5\n",
        "\n",
        "bst2.display()\n"
      ]
    },
    {
      "cell_type": "markdown",
      "metadata": {
        "id": "bs96xuZe3SPz"
      },
      "source": [
        "# Test case 2 - testing for a deletion operation"
      ]
    },
    {
      "cell_type": "code",
      "execution_count": null,
      "metadata": {
        "colab": {
          "base_uri": "https://localhost:8080/"
        },
        "id": "qvhrtuc_3SPz",
        "outputId": "dbfc3128-4c37-4c2b-dfd2-43999ae45829"
      },
      "outputs": [
        {
          "output_type": "stream",
          "name": "stdout",
          "text": [
            "    * 15\n",
            "        * 12\n",
            "* 10  <- root\n",
            "    * 5\n",
            "\n",
            "    * 12\n",
            "* 10  <- root\n",
            "    * 5\n"
          ]
        }
      ],
      "source": [
        "# Test case for deleting a node with one child\n",
        "\n",
        "bst3 = BinarySearchTree()\n",
        "bst3.insert(10)\n",
        "bst3.insert(5)\n",
        "bst3.insert(15)\n",
        "bst3.insert(12)\n",
        "\n",
        "# This should make a tree like this:\n",
        "#     10\n",
        "#    /  \\\n",
        "#   5   15\n",
        "#      /\n",
        "#     12\n",
        "bst3.display()\n",
        "print()\n",
        "\n",
        "bst3.delete(15)\n",
        "# After deleting node 15, the tree should look like this:\n",
        "#     10\n",
        "#    /  \\\n",
        "#   5   12\n",
        "\n",
        "bst3.display()"
      ]
    },
    {
      "cell_type": "code",
      "execution_count": null,
      "metadata": {
        "colab": {
          "base_uri": "https://localhost:8080/"
        },
        "id": "zMjJijOD3SP0",
        "outputId": "0e30a83d-c948-48c1-de2a-cc942cd72168"
      },
      "outputs": [
        {
          "output_type": "stream",
          "name": "stdout",
          "text": [
            "        * 35\n",
            "    * 30\n",
            "        * 25\n",
            "* 20  <- root\n",
            "        * 15\n",
            "    * 10\n",
            "        * 5\n",
            "\n",
            "        * 35\n",
            "    * 30\n",
            "* 25  <- root\n",
            "        * 15\n",
            "    * 10\n",
            "        * 5\n"
          ]
        }
      ],
      "source": [
        "# Test case for deleting a node with two children\n",
        "\n",
        "bst4 = BinarySearchTree()\n",
        "bst4.insert(20)\n",
        "bst4.insert(10)\n",
        "bst4.insert(30)\n",
        "bst4.insert(5)\n",
        "bst4.insert(15)\n",
        "bst4.insert(25)\n",
        "bst4.insert(35)\n",
        "\n",
        "# This should make a tree like this:\n",
        "#       20\n",
        "#      /  \\\n",
        "#    10    30\n",
        "#   / \\   /  \\\n",
        "#  5  15 25  35\n",
        "bst4.display()\n",
        "print()\n",
        "\n",
        "# Explanation:\n",
        "# When deleting a node with two children, we need to find the successor to replace the node.\n",
        "# The successor is the smallest node in the right subtree of the node to be deleted.\n",
        "# In this case, when deleting node 20, the successor is node 25.\n",
        "\n",
        "bst4.delete(20)\n",
        "# After deleting node 20, the tree should look like this:\n",
        "#       25\n",
        "#      /  \\\n",
        "#    10    30\n",
        "#   / \\     \\\n",
        "#  5  15    35\n",
        "\n",
        "bst4.display()\n"
      ]
    },
    {
      "cell_type": "markdown",
      "metadata": {
        "id": "87a_eYBR3SP0"
      },
      "source": [
        "# Test case 3 - Search functionality\n"
      ]
    },
    {
      "cell_type": "code",
      "execution_count": null,
      "metadata": {
        "id": "G2XT1vcT3SP0"
      },
      "outputs": [],
      "source": [
        "# Test case 3 - Search functionality\n",
        "\n",
        "bst_search = BinarySearchTree()\n",
        "bst_search.insert(50)\n",
        "bst_search.insert(30)\n",
        "bst_search.insert(70)\n",
        "bst_search.insert(20)\n",
        "bst_search.insert(40)\n",
        "bst_search.insert(60)\n",
        "bst_search.insert(80)\n",
        "\n",
        "# This should make a tree like this:\n",
        "#       50\n",
        "#      /  \\\n",
        "#    30    70\n",
        "#   / \\   /  \\\n",
        "#  20 40 60  80\n",
        "\n",
        "# Test searching for existing values\n",
        "# The assert statement is used to test if a condition is true. If the condition is false, it raises an AssertionError with the specified error message.\n",
        "assert bst_search.search(50)._element == 50, \"Test failed: 50 should be found\"\n",
        "assert bst_search.search(30)._element == 30, \"Test failed: 30 should be found\"\n",
        "assert bst_search.search(70)._element == 70, \"Test failed: 70 should be found\"\n",
        "assert bst_search.search(20)._element == 20, \"Test failed: 20 should be found\"\n",
        "assert bst_search.search(40)._element == 40, \"Test failed: 40 should be found\"\n",
        "assert bst_search.search(60)._element == 60, \"Test failed: 60 should be found\"\n",
        "assert bst_search.search(80)._element == 80, \"Test failed: 80 should be found\"\n",
        "\n",
        "# Test searching for non-existing values\n",
        "assert bst_search.search(10) is None, \"Test failed: 10 should not be found\"\n",
        "assert bst_search.search(90) is None, \"Test failed: 90 should not be found\"\n",
        "assert bst_search.search(35) is None, \"Test failed: 35 should not be found\"\n",
        "\n",
        "# Justification:\n",
        "# The search function should correctly identify whether a value exists in the tree.\n",
        "# It should return the node containing the element if found, otherwise None.\n",
        "# The test cases cover both existing and non-existing values to ensure the search function behaves as expected."
      ]
    },
    {
      "cell_type": "markdown",
      "metadata": {
        "id": "fnJYeqR63SP1"
      },
      "source": [
        "# Test case - add more as you wish!\n"
      ]
    },
    {
      "cell_type": "markdown",
      "metadata": {
        "id": "131iR1oU3SP1"
      },
      "source": [
        "**Test Case 1**  \n",
        "Ensure right-skewed unbalanced BST is built with correct height"
      ]
    },
    {
      "cell_type": "code",
      "execution_count": null,
      "metadata": {
        "id": "IAoQgAgB3SP1"
      },
      "outputs": [],
      "source": [
        "bst = BinarySearchTree()\n",
        "for i in range(1, 11):  # Insert sorted data\n",
        "    bst.insert(i)\n",
        "\n",
        "assert bst.inorder_traversal() == list(range(1, 11))  # Sorted order must be preserved\n",
        "assert bst.height() == 9  # Degenerate BST = height n-1\n",
        "assert bst.validate_bst() == True  # Still valid as BST even if unbalanced\n"
      ]
    },
    {
      "cell_type": "markdown",
      "metadata": {
        "id": "pZO2ufWc3SP2"
      },
      "source": [
        "**Test Case 2**  \n",
        "Delection Case, Force replacement with in-order successor taht itself has a child (non-leaf)"
      ]
    },
    {
      "cell_type": "code",
      "execution_count": null,
      "metadata": {
        "colab": {
          "base_uri": "https://localhost:8080/"
        },
        "id": "g-9Socbz3SP2",
        "outputId": "13b84470-e19a-4dc1-d33d-a63f3dfb9828"
      },
      "outputs": [
        {
          "output_type": "stream",
          "name": "stdout",
          "text": [
            "        * 80\n",
            "    * 75\n",
            "        * 60\n",
            "* 50  <- root\n",
            "        * 40\n",
            "    * 30\n",
            "        * 20\n"
          ]
        }
      ],
      "source": [
        "# Create tree:\n",
        "#         50\n",
        "#       /    \\\n",
        "#     30      70\n",
        "#    / \\     /  \\\n",
        "#   20 40   60  80\n",
        "#              /\n",
        "#            75\n",
        "\n",
        "bst = BinarySearchTree()\n",
        "for val in [50, 30, 70, 20, 40, 60, 80, 75]:\n",
        "    bst.insert(val)\n",
        "\n",
        "# 70 has successor 75, which has no left but may have right (complex case)\n",
        "bst.delete(70)\n",
        "\n",
        "assert bst.contains(70) == False\n",
        "assert bst.contains(75) == True\n",
        "assert bst.validate_bst() == True\n",
        "bst.display()"
      ]
    },
    {
      "cell_type": "markdown",
      "source": [
        "**Test Case 3**  \n",
        "Range Query - Confirm aall range edge conditions work"
      ],
      "metadata": {
        "id": "AVp3C4CL3u8C"
      }
    },
    {
      "cell_type": "code",
      "source": [
        "bst = BinarySearchTree()\n",
        "for val in [15, 10, 20, 8, 12, 17, 25]:\n",
        "    bst.insert(val)\n",
        "\n",
        "# Full range\n",
        "assert bst.range_query(8, 25) == [8, 10, 12, 15, 17, 20, 25]\n",
        "\n",
        "# Tight range\n",
        "assert bst.range_query(10, 15) == [10, 12, 15]\n",
        "\n",
        "# Empty range\n",
        "assert bst.range_query(26, 30) == []\n",
        "\n",
        "# One-element match\n",
        "assert bst.range_query(17, 17) == [17]\n"
      ],
      "metadata": {
        "id": "8G6ICc_c303o"
      },
      "execution_count": null,
      "outputs": []
    },
    {
      "cell_type": "markdown",
      "source": [
        "**Test Case 4**  \n",
        "Post-deletion structure - Test deletion of root and confirm tree restructure"
      ],
      "metadata": {
        "id": "IcgC_EG-3316"
      }
    },
    {
      "cell_type": "code",
      "source": [
        "bst = BinarySearchTree()\n",
        "for val in [10, 5, 15, 2, 7, 12, 20]:\n",
        "    bst.insert(val)\n",
        "\n",
        "# Delete root\n",
        "bst.delete(10)\n",
        "\n",
        "# Check root changed and traversals still consistent\n",
        "inorder = bst.inorder_traversal()\n",
        "preorder = bst.preorder_traversal()\n",
        "postorder = bst.postorder_traversal()\n",
        "level_order = bst.level_order_traversal()\n",
        "\n",
        "assert inorder == sorted(inorder)\n",
        "assert set(preorder) == set(postorder) == set(level_order) == {2, 5, 7, 12, 15, 20}\n",
        "assert bst.validate_bst() == True\n"
      ],
      "metadata": {
        "id": "A2ls--Cm4BAQ"
      },
      "execution_count": null,
      "outputs": []
    },
    {
      "cell_type": "markdown",
      "source": [
        "**Test Case 5**  \n",
        "Structural Integrity and validation after Reset"
      ],
      "metadata": {
        "id": "XW8Kc81M4ESt"
      }
    },
    {
      "cell_type": "code",
      "source": [
        "bst = BinarySearchTree()\n",
        "bst.insert(100)\n",
        "bst.insert(50)\n",
        "bst.insert(150)\n",
        "\n",
        "assert len(bst) == 3\n",
        "assert 50 in bst\n",
        "assert list(iter(bst)) == [50, 100, 150]\n",
        "\n",
        "bst.clear()\n",
        "assert bst.is_empty() == True\n",
        "assert len(bst) == 0\n",
        "assert list(bst) == []\n",
        "\n",
        "bst.insert(10)\n",
        "assert 10 in bst\n",
        "assert bst.validate_bst()\n"
      ],
      "metadata": {
        "id": "U_XpXEPF4KIj"
      },
      "execution_count": null,
      "outputs": []
    }
  ],
  "metadata": {
    "kernelspec": {
      "display_name": "Python 3",
      "language": "python",
      "name": "python3"
    },
    "language_info": {
      "codemirror_mode": {
        "name": "ipython",
        "version": 3
      },
      "file_extension": ".py",
      "mimetype": "text/x-python",
      "name": "python",
      "nbconvert_exporter": "python",
      "pygments_lexer": "ipython3",
      "version": "3.12.2"
    },
    "colab": {
      "provenance": []
    }
  },
  "nbformat": 4,
  "nbformat_minor": 0
}