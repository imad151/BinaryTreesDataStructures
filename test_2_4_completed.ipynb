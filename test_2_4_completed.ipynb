{
  "cells": [
    {
      "cell_type": "code",
      "execution_count": 2,
      "metadata": {
        "id": "m6L8csWzjxxg"
      },
      "outputs": [],
      "source": [
        "from two_four_tree_skeleton import TwoFourTree\n",
        "# Freely test your TwoFourTree implementation to ensure it adheres to the 2-4 tree properties."
      ]
    },
    {
      "cell_type": "markdown",
      "metadata": {
        "id": "6uYAuE95jxxi"
      },
      "source": [
        "**Test Case 1:** Multiple Splits Across Levels\n",
        "Purpose: Ensures the tree can split recursively from a leaf to the root, resulting in height increase."
      ]
    },
    {
      "cell_type": "code",
      "execution_count": 3,
      "metadata": {
        "colab": {
          "base_uri": "https://localhost:8080/",
          "height": 0
        },
        "id": "rbpQnAu4jxxj",
        "outputId": "5a720f0b-7fda-4254-edf9-80603cdb1081"
      },
      "outputs": [
        {
          "output_type": "stream",
          "name": "stdout",
          "text": [
            "Keys: [10, 20, 30, 40, 50, 60, 70, 80, 90, 100]\n"
          ]
        }
      ],
      "source": [
        "tree = TwoFourTree()\n",
        "\n",
        "for val in [10, 20, 30, 40, 50, 60, 70, 80, 90, 100]:\n",
        "    tree.insert(val)\n",
        "tree.display()\n",
        "assert tree.size() == 10\n",
        "for val in [10, 20, 30, 40, 50, 60, 70, 80, 90, 100]:\n",
        "    assert tree.search(val)"
      ]
    },
    {
      "cell_type": "markdown",
      "metadata": {
        "id": "KQoEbhkWjxxj"
      },
      "source": [
        "# Test case 2  \n",
        "Purpose: Test a deletion that causes a leaf node underflow, borrowing from a sibling or merging."
      ]
    },
    {
      "cell_type": "code",
      "execution_count": 4,
      "metadata": {
        "colab": {
          "base_uri": "https://localhost:8080/",
          "height": 0
        },
        "id": "oHinRoF_jxxk",
        "outputId": "8623d4b7-9d13-495d-a97a-c66dbc1fbbde"
      },
      "outputs": [
        {
          "output_type": "stream",
          "name": "stdout",
          "text": [
            "Keys: [30, 50, 60, 70, 80]\n"
          ]
        }
      ],
      "source": [
        "tree = TwoFourTree()\n",
        "for val in [50, 20, 70, 10, 30, 60, 80]:\n",
        "    tree.insert(val)\n",
        "\n",
        "# Cause a merge during deletion\n",
        "tree.delete(10)\n",
        "tree.delete(20)\n",
        "tree.display()\n",
        "\n",
        "assert not tree.search(10)\n",
        "assert not tree.search(20)\n",
        "assert tree.size() == 5\n"
      ]
    },
    {
      "cell_type": "markdown",
      "metadata": {
        "id": "lGUDrPUJjxxk"
      },
      "source": [
        "# Test case 3  \n",
        "Purpose: Delete a key from an internal node, ensure it's replaced correctly with the in-order predecessor."
      ]
    },
    {
      "cell_type": "code",
      "execution_count": 5,
      "metadata": {
        "colab": {
          "base_uri": "https://localhost:8080/",
          "height": 0
        },
        "id": "CfUR_0Myjxxk",
        "outputId": "047d87ce-66a6-43d7-cf48-5ec5deacaeae"
      },
      "outputs": [
        {
          "output_type": "stream",
          "name": "stdout",
          "text": [
            "Keys: [10, 20, 30, 50, 60, 70]\n"
          ]
        }
      ],
      "source": [
        "tree = TwoFourTree()\n",
        "for val in [40, 20, 60, 10, 30, 50, 70]:\n",
        "    tree.insert(val)\n",
        "\n",
        "# Delete internal node key (40), must be replaced with 30 (predecessor)\n",
        "tree.delete(40)\n",
        "tree.display()\n",
        "\n",
        "assert not tree.search(40)\n",
        "assert tree.search(30)\n",
        "assert tree.search(20)\n",
        "assert tree.search(50)"
      ]
    },
    {
      "cell_type": "markdown",
      "metadata": {
        "id": "Ul-n440ujxxk"
      },
      "source": [
        "# Test case 4  \n",
        "Purpose: Stress test with alternating inserts and deletes to verify structural resilience and key ordering."
      ]
    },
    {
      "cell_type": "code",
      "execution_count": 6,
      "metadata": {
        "colab": {
          "base_uri": "https://localhost:8080/"
        },
        "id": "sartngvKjxxk",
        "outputId": "163a1d2c-81af-4119-b0fe-15cf3a67b9b9"
      },
      "outputs": [
        {
          "output_type": "stream",
          "name": "stdout",
          "text": [
            "Keys: [5, 8, 10, 12, 15, 18, 20, 22, 25, 28, 30, 35]\n"
          ]
        }
      ],
      "source": [
        "\n",
        "tree = TwoFourTree()\n",
        "values = [15, 5, 25, 10, 20, 30, 8, 12, 18, 22, 28, 35]\n",
        "\n",
        "for val in values:\n",
        "    tree.insert(val)\n",
        "tree.display()\n",
        "\n",
        "for val in [10, 20, 28, 15, 25]:\n",
        "    tree.delete(val)\n",
        "\n",
        "for val in [10, 20, 28, 15, 25]:\n",
        "    assert not tree.search(val)\n",
        "\n",
        "for val in set(values) - set([10, 20, 28, 15, 25]):\n",
        "    assert tree.search(val)\n"
      ]
    },
    {
      "cell_type": "markdown",
      "metadata": {
        "id": "8wzW_tnJjxxl"
      },
      "source": [
        "# Test case 5\n"
      ]
    },
    {
      "cell_type": "code",
      "execution_count": 7,
      "metadata": {
        "colab": {
          "base_uri": "https://localhost:8080/"
        },
        "id": "fyE5F-k9jxxl",
        "outputId": "86d5f3f1-6061-482e-9d14-5c3cc2cf4b2c"
      },
      "outputs": [
        {
          "output_type": "stream",
          "name": "stdout",
          "text": [
            "Keys: [5, 10, 15, 20, 25, 27, 30, 32, 35, 50, 55, 60, 65, 80, 85, 90, 95]\n",
            "Keys: [5, 15, 25, 27, 32, 35, 50, 55, 60, 65, 85, 95]\n"
          ]
        }
      ],
      "source": [
        "tree = TwoFourTree()\n",
        "insert_order = [50, 20, 80, 10, 30, 60, 90, 25, 35, 55, 65, 85, 95, 5, 15, 27, 32]\n",
        "for val in insert_order:\n",
        "    tree.insert(val)\n",
        "tree.display()\n",
        "\n",
        "# Ensure structure is correct and size is consistent\n",
        "assert tree.size() == len(insert_order)\n",
        "for val in insert_order:\n",
        "    assert tree.search(val)\n",
        "\n",
        "# Delete from various levels to check cascading underflows\n",
        "for val in [20, 80, 10, 30, 90]:\n",
        "    tree.delete(val)\n",
        "tree.display()\n",
        "for val in [20, 80, 10, 30, 90]:\n",
        "    assert not tree.search(val)\n"
      ]
    },
    {
      "cell_type": "markdown",
      "metadata": {
        "id": "FqtYC3Jmjxxl"
      },
      "source": [
        "# Test case - add more as you wish!\n"
      ]
    },
    {
      "cell_type": "markdown",
      "metadata": {
        "id": "6RT7e-dmjxxl"
      },
      "source": []
    }
  ],
  "metadata": {
    "kernelspec": {
      "display_name": "Python 3",
      "language": "python",
      "name": "python3"
    },
    "language_info": {
      "codemirror_mode": {
        "name": "ipython",
        "version": 3
      },
      "file_extension": ".py",
      "mimetype": "text/x-python",
      "name": "python",
      "nbconvert_exporter": "python",
      "pygments_lexer": "ipython3",
      "version": "3.12.2"
    },
    "colab": {
      "provenance": []
    }
  },
  "nbformat": 4,
  "nbformat_minor": 0
}