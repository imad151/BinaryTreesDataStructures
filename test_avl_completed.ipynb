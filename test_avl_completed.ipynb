{
  "cells": [
    {
      "cell_type": "code",
      "execution_count": 1,
      "metadata": {
        "id": "0kWpWF1L4nO8"
      },
      "outputs": [],
      "source": [
        "from avl_tree_skeleton import AVLTree\n",
        "# Freely test your AVLTree implementation to ensure it adheres to the 2-4 tree properties."
      ]
    },
    {
      "cell_type": "markdown",
      "metadata": {
        "id": "j7oqXJr14nO9"
      },
      "source": [
        "# Test case 1\n",
        "Ensure correct rotations are triggered and balance is maintained"
      ]
    },
    {
      "cell_type": "code",
      "execution_count": 2,
      "metadata": {
        "id": "SXfWvpvS4nO-"
      },
      "outputs": [],
      "source": [
        "avl = AVLTree()\n",
        "\n",
        "# Left-Left (LL) Rotation\n",
        "avl.insert(30)\n",
        "avl.insert(20)\n",
        "avl.insert(10)  # Triggers right rotation at 30\n",
        "\n",
        "# Right-Right (RR) Rotation\n",
        "avl.insert(40)\n",
        "avl.insert(50)  # Triggers left rotation at 30\n",
        "\n",
        "# Left-Right (LR) Rotation\n",
        "avl.insert(25)  # Triggers left at 20, then right at 30\n",
        "\n",
        "# Right-Left (RL) Rotation\n",
        "avl.insert(35)  # Triggers right at 40, then left at 30\n",
        "\n",
        "assert avl.inorder_traversal() == [10, 20, 25, 30, 35, 40, 50]\n",
        "assert avl.height() <= 3\n"
      ]
    },
    {
      "cell_type": "markdown",
      "metadata": {
        "id": "_iC6EEnS4nO-"
      },
      "source": [
        "# Test case 2\n",
        "Validate AVL behavior when deleting nodes in all three deletion scenarios"
      ]
    },
    {
      "cell_type": "code",
      "execution_count": 3,
      "metadata": {
        "id": "T9NSeMhH4nO_"
      },
      "outputs": [],
      "source": [
        "avl = AVLTree()\n",
        "for val in [50, 30, 70, 20, 40, 60, 80]:\n",
        "    avl.insert(val)\n",
        "\n",
        "# Delete leaf node\n",
        "avl.delete(20)\n",
        "# Delete node with one child\n",
        "avl.delete(30)\n",
        "# Delete node with two children\n",
        "avl.delete(50)\n",
        "\n",
        "assert avl.inorder_traversal() == [40, 60, 70, 80]\n",
        "assert avl.search(50) == False\n",
        "assert avl.search(30) == False\n",
        "assert avl.search(20) == False\n",
        "assert avl.height() <= 3\n"
      ]
    },
    {
      "cell_type": "markdown",
      "metadata": {
        "id": "bdExxsMt4nO_"
      },
      "source": [
        "# Test case 3\n",
        "Test Duplicate insertion and tree remains valid"
      ]
    },
    {
      "cell_type": "code",
      "execution_count": 4,
      "metadata": {
        "id": "gfMsDO5X4nO_"
      },
      "outputs": [],
      "source": [
        "avl = AVLTree()\n",
        "avl.insert(10)\n",
        "avl.insert(20)\n",
        "avl.insert(30)\n",
        "avl.insert(20)  # duplicate\n",
        "\n",
        "assert avl.size() == 3\n",
        "assert avl.inorder_traversal() == [10, 20, 30]\n"
      ]
    },
    {
      "cell_type": "markdown",
      "metadata": {
        "id": "IQgaeLst4nPA"
      },
      "source": [
        "# Test case 4\n",
        "Insert a large number of nodes and delete half to ensure AVL property is still valid"
      ]
    },
    {
      "cell_type": "code",
      "execution_count": 5,
      "metadata": {
        "id": "5RWZNXHl4nPA"
      },
      "outputs": [],
      "source": [
        "avl = AVLTree()\n",
        "nodes = list(range(1, 101))\n",
        "for val in nodes:\n",
        "    avl.insert(val)\n",
        "\n",
        "# AVL properties should be preserved\n",
        "assert avl.height() <= 2 * (len(nodes).bit_length())  # AVL height upper bound is ~1.44 log2(n)\n",
        "\n",
        "# Delete even numbers\n",
        "for val in nodes:\n",
        "    if val % 2 == 0:\n",
        "        avl.delete(val)\n",
        "\n",
        "assert all(val % 2 == 1 for val in avl.inorder_traversal())  # Only odd numbers should remain\n",
        "assert avl.height() <= 2 * (len(nodes) // 2).bit_length()\n"
      ]
    },
    {
      "cell_type": "markdown",
      "metadata": {
        "id": "ikAl-opl4nPA"
      },
      "source": [
        "# Test case 5\n",
        "Confirm edge case scenario when interacting with an empty tree"
      ]
    },
    {
      "cell_type": "code",
      "execution_count": 7,
      "metadata": {
        "id": "OHQj4tY-4nPA"
      },
      "outputs": [],
      "source": [
        "avl = AVLTree()\n",
        "\n",
        "assert avl.is_empty() == True\n",
        "assert avl.height() == -1\n",
        "assert avl.search(10) == False\n",
        "assert avl.inorder_traversal() == []\n",
        "\n",
        "avl.delete(5)\n",
        "assert avl.size() == 0\n"
      ]
    },
    {
      "cell_type": "markdown",
      "metadata": {
        "id": "psu8vxQ04nPA"
      },
      "source": [
        "# Test case - add more as you wish!\n"
      ]
    },
    {
      "cell_type": "markdown",
      "metadata": {
        "id": "u2JpE6HG4nPB"
      },
      "source": []
    }
  ],
  "metadata": {
    "kernelspec": {
      "display_name": "Python 3",
      "language": "python",
      "name": "python3"
    },
    "language_info": {
      "codemirror_mode": {
        "name": "ipython",
        "version": 3
      },
      "file_extension": ".py",
      "mimetype": "text/x-python",
      "name": "python",
      "nbconvert_exporter": "python",
      "pygments_lexer": "ipython3",
      "version": "3.12.2"
    },
    "colab": {
      "provenance": []
    }
  },
  "nbformat": 4,
  "nbformat_minor": 0
}